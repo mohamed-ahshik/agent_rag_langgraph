{
 "cells": [
  {
   "cell_type": "markdown",
   "id": "1da78605",
   "metadata": {},
   "source": [
    "## Experiment on Langgraph"
   ]
  },
  {
   "cell_type": "code",
<<<<<<< HEAD
   "execution_count": 7,
=======
   "execution_count": 93,
>>>>>>> f03b720 (fix : changed langgraph workflow)
   "id": "f9dceec5",
   "metadata": {},
   "outputs": [],
   "source": [
    "import sys\n",
    "sys.path.insert(0,\"/Users/user/Documents/agent_rag_langgraph/agent_rag_langgraph\")"
   ]
  },
  {
   "cell_type": "code",
<<<<<<< HEAD
   "execution_count": null,
   "id": "f49986e8",
   "metadata": {},
   "outputs": [],
   "source": [
    "from main import retriever\n",
    "\n",
=======
   "execution_count": 94,
   "id": "f49986e8",
   "metadata": {},
   "outputs": [
    {
     "ename": "ImportError",
     "evalue": "cannot import name 'create_vector_store' from 'preprocess' (/Users/user/Documents/agent_rag_langgraph/agent_rag_langgraph/preprocess.py)",
     "output_type": "error",
     "traceback": [
      "\u001b[31m---------------------------------------------------------------------------\u001b[39m",
      "\u001b[31mImportError\u001b[39m                               Traceback (most recent call last)",
      "\u001b[36mCell\u001b[39m\u001b[36m \u001b[39m\u001b[32mIn[94]\u001b[39m\u001b[32m, line 18\u001b[39m\n\u001b[32m     15\u001b[39m \u001b[38;5;28;01mfrom\u001b[39;00m\u001b[38;5;250m \u001b[39m\u001b[34;01mpydantic\u001b[39;00m\u001b[38;5;250m \u001b[39m\u001b[38;5;28;01mimport\u001b[39;00m BaseModel\n\u001b[32m     16\u001b[39m \u001b[38;5;28;01mfrom\u001b[39;00m\u001b[38;5;250m \u001b[39m\u001b[34;01mtyping\u001b[39;00m\u001b[38;5;250m \u001b[39m\u001b[38;5;28;01mimport\u001b[39;00m TypedDict, Any\n\u001b[32m---> \u001b[39m\u001b[32m18\u001b[39m \u001b[38;5;28;01mfrom\u001b[39;00m\u001b[38;5;250m \u001b[39m\u001b[34;01mpreprocess\u001b[39;00m\u001b[38;5;250m \u001b[39m\u001b[38;5;28;01mimport\u001b[39;00m run_preprocess, create_vector_store, get_vectorstore_compressed_retriever, preprocess_document_to_markdown\n",
      "\u001b[31mImportError\u001b[39m: cannot import name 'create_vector_store' from 'preprocess' (/Users/user/Documents/agent_rag_langgraph/agent_rag_langgraph/preprocess.py)"
     ]
    }
   ],
   "source": [
    "from main import retriever\n",
    "import pprint\n",
>>>>>>> f03b720 (fix : changed langgraph workflow)
    "\n",
    "import os\n",
    "from pprint import pprint\n",
    "from typing import Literal\n",
    "\n",
    "from dotenv import load_dotenv\n",
    "from langchain_core.messages import HumanMessage\n",
    "from langchain_core.tools import tool\n",
    "from langchain_openai.chat_models import ChatOpenAI\n",
    "from langgraph.checkpoint.memory import MemorySaver\n",
    "from langgraph.graph import END, START, MessagesState, StateGraph\n",
    "from langgraph.prebuilt import ToolNode\n",
    "from pydantic import BaseModel\n",
<<<<<<< HEAD
    "from typing import TypedDict\n",
    "\n",
    "from preprocess import run_preprocess"
=======
    "from typing import TypedDict, Any\n",
    "\n",
    "from preprocess import run_preprocess, create_vector_store, get_vectorstore_compressed_retriever, preprocess_document_to_markdown"
>>>>>>> f03b720 (fix : changed langgraph workflow)
   ]
  },
  {
   "cell_type": "code",
   "execution_count": 14,
   "id": "08fa0e01",
   "metadata": {},
   "outputs": [],
   "source": [
    "load_dotenv()  # take environment variables\n",
    "api_key = os.getenv(\"OPENAI_API_KEY\")"
   ]
  },
  {
   "cell_type": "code",
<<<<<<< HEAD
   "execution_count": null,
   "id": "c4c1fd45",
   "metadata": {},
   "outputs": [
    {
     "name": "stderr",
     "output_type": "stream",
     "text": [
      "/opt/anaconda3/envs/agent_rag_langgraph_env/lib/python3.11/site-packages/tqdm/auto.py:21: TqdmWarning: IProgress not found. Please update jupyter and ipywidgets. See https://ipywidgets.readthedocs.io/en/stable/user_install.html\n",
      "  from .autonotebook import tqdm as notebook_tqdm\n"
=======
   "execution_count": 70,
   "id": "b79a5f70",
   "metadata": {},
   "outputs": [],
   "source": [
    "from langchain.tools.retriever import create_retriever_tool\n",
    "\n",
    "compress_retriever = run_preprocess(\n",
    "        \"/Users/user/Documents/agent_rag_langgraph/agent_rag_langgraph/data/gels-pdt-gpa-brochure.pdf\",\n",
    "        api_key,\n",
    "    )\n",
    "compress_retriever_tool = create_retriever_tool(\n",
    "    compress_retriever,\n",
    "    'uploaded_insurance_document',\n",
    "    'Details about the uploaded insurance document.'\n",
    ")\n",
    "tools = [compress_retriever_tool]\n",
    "\n"
   ]
  },
  {
   "cell_type": "code",
   "execution_count": 20,
   "id": "d97a8ec1",
   "metadata": {},
   "outputs": [],
   "source": [
    "from typing import Annotated, Sequence, TypedDict\n",
    "\n",
    "from langchain_core.messages import BaseMessage\n",
    "\n",
    "from langgraph.graph.message import add_messages\n",
    "\n",
    "\n",
    "class AgentState(TypedDict):\n",
    "    # The add_messages function defines how an update should be processed\n",
    "    # Default is to replace. add_messages says \"append\"\n",
    "    messages: Annotated[Sequence[BaseMessage], add_messages]\n"
   ]
  },
  {
   "cell_type": "code",
   "execution_count": 40,
   "id": "32dda25b",
   "metadata": {},
   "outputs": [
    {
     "name": "stdout",
     "output_type": "stream",
     "text": [
      "********************Prompt[rlm/rag-prompt]********************\n"
     ]
    },
    {
     "name": "stderr",
     "output_type": "stream",
     "text": [
      "/opt/anaconda3/envs/agent_rag_langgraph_env/lib/python3.11/site-packages/langsmith/client.py:272: LangSmithMissingAPIKeyWarning: API key must be provided when using hosted LangSmith API\n",
      "  warnings.warn(\n"
>>>>>>> f03b720 (fix : changed langgraph workflow)
     ]
    },
    {
     "name": "stdout",
     "output_type": "stream",
     "text": [
<<<<<<< HEAD
      "The GREAT Protector Active basic plan is designed to support an active lifestyle with comprehensive coverage. Here are the key details:\n",
      "\n",
      "- **Daily Rate**: S$0.89\n",
      "- **Monthly Rate**: S$27.98\n",
      "- **Annual Rate**: S$325.99\n",
      "\n",
      "This plan is part of a personal accident insurance that offers up to S$3 million in coverage against accidents, including Accidental Major Permanent Disablement. This high coverage amount ensures that medical and caregiving expenses can be supported, helping you adjust to lifestyle changes after an accident.\n",
      "\n",
      "The premium rates include the prevailing rate of GST and are subject to change based on future experiences. The rates are calculated based on the annual premium divided by 365 days and rounded to the nearest cent.\n",
      "\n",
      "For more specific benefits or conditions, additional details from the policy documents would be required.\n",
      "-------------------------------------------------\n",
      "[HumanMessage(content='You are an intelligent assistant. Be friendly and use the tools to help you.\\n                                The tool contain all the insurance details need to know about. Only use these insurance information.\\n                                Do not hallucinate.If you do not know an answer, reply that you do not know.\\n                                Question :\\n                                Tell me more about GREAT Protector Active basic plan', additional_kwargs={}, response_metadata={}, id='035d52c3-423b-40d0-b0a2-f020edcaf716'),\n",
      " AIMessage(content='', additional_kwargs={'tool_calls': [{'id': 'call_gVuKVfI5YxOLHeC28m3hCTA5', 'function': {'arguments': '{\"query\":\"GREAT Protector Active basic plan\"}', 'name': 'retriever'}, 'type': 'function'}], 'refusal': None}, response_metadata={'token_usage': {'completion_tokens': 20, 'prompt_tokens': 191, 'total_tokens': 211, 'completion_tokens_details': {'accepted_prediction_tokens': 0, 'audio_tokens': 0, 'reasoning_tokens': 0, 'rejected_prediction_tokens': 0}, 'prompt_tokens_details': {'audio_tokens': 0, 'cached_tokens': 0}}, 'model_name': 'gpt-4-turbo-2024-04-09', 'system_fingerprint': 'fp_de235176ee', 'id': 'chatcmpl-BihwwWJ9hYa0tUrJCYP5mIGze4tPw', 'service_tier': 'default', 'finish_reason': 'tool_calls', 'logprobs': None}, id='run--a37fab8a-2852-4962-9314-6d3fb5261564-0', tool_calls=[{'name': 'retriever', 'args': {'query': 'GREAT Protector Active basic plan'}, 'id': 'call_gVuKVfI5YxOLHeC28m3hCTA5', 'type': 'tool_call'}], usage_metadata={'input_tokens': 191, 'output_tokens': 20, 'total_tokens': 211, 'input_token_details': {'audio': 0, 'cache_read': 0}, 'output_token_details': {'audio': 0, 'reasoning': 0}}),\n",
      " ToolMessage(content=\"[Document(metadata={'source': '/Users/user/Documents/agent_rag_langgraph/agent_rag_langgraph/data/gels-pdt-gpa-brochure.md'}, page_content='Plans to suit every need\\\\n\\\\nBasic S$0.89 /day [^]\\\\n\\\\nS$27.98/month [#]\\\\n\\\\nS$325.99/year [#]\\\\n\\\\nClassic S$$1.45 /day [^]\\\\n\\\\nS$45.46/month [#]\\\\n\\\\nS$529.72/year [#]\\\\n\\\\nElite S$2.37 /day [^]\\\\n\\\\nS$74.32/month [#]\\\\n\\\\nS$865.89/year [#]\\\\n\\\\nHere’s how GREAT Protector Active supports your active lifestyle\\\\n\\\\nDanielle'), Document(metadata={'source': '/Users/user/Documents/agent_rag_langgraph/agent_rag_langgraph/data/gels-pdt-gpa-brochure.md'}, page_content='Personal accident\\\\n\\\\nGREAT Protector Active\\\\n\\\\nAll the protection you need to enjoy a more active lifestyle\\\\n\\\\nWhy GREAT Protector Active\\\\n\\\\nGet up to S$3 million in coverage against accidents Benefit from one of the highest personal accident plan that provides up to S$3 million in coverage against Accidental Major Permanent Disablement. [3] With the high lump sum payout, your medical\\\\n\\\\nand caregiving expenses can be supported while you adjust to your lifestyle changes.'), Document(metadata={'source': '/Users/user/Documents/agent_rag_langgraph/agent_rag_langgraph/data/gels-pdt-gpa-brochure.md'}, page_content='^ Daily rates are based on the annual premium of GREAT Protector Active Basic, Classic or Elite, whichever applicable, divided by 365 days and rounded off to the nearest cent.\\\\n\\\\nPremium rates include the prevailing rate of GST. The prevailing rate of GST is subject to change. The premium rates for this\\\\n\\\\npolicy are not guaranteed and may be adjusted based on future experience.\\\\n\\\\nTable of benefts i\\\\n\\\\ni\\\\n\\\\ni\\\\n\\\\ni\\\\n\\\\ni'), Document(metadata={'source': '/Users/user/Documents/agent_rag_langgraph/agent_rag_langgraph/data/gels-pdt-gpa-brochure.md'}, page_content='Danielle loses the sight in\\\\n\\\\nher right eye due to a tennis\\\\n\\\\ninjury and receives a payout of S$1,500,000 .\\\\n\\\\nDanielle breaks her tooth\\\\n\\\\nwhile having a meal on a trip\\\\n\\\\nin Malaysia. She claims for a\\\\n\\\\nmedical expense reimbursement of up to S$7,500 .\\\\n\\\\n^ Daily rates are based on the annual premium of GREAT Protector Active Basic, Classic or Elite, whichever applicable, divided by 365 days and rounded off to the nearest cent.'), Document(metadata={'source': '/Users/user/Documents/agent_rag_langgraph/agent_rag_langgraph/data/gels-pdt-gpa-brochure.md'}, page_content='4 Benefit Booster provides up to 150% of payout under all sections listed in the table of benefits except the sub-limits under Accidental Medical Expense Reimbursement. Benefit Booster is only applicable when the Life Assured suffers injuries from: (i) accidents while on public conveyance as a passenger, (ii) being involved in a road traffic accident as a pedestrian, cyclist or passenger; or (iii) accidents while outside of Singapore.\\\\n\\\\nPlans to suit every need\\\\n\\\\nBasic S$0.89 /day [^]')]\", name='retriever', id='0eee04c3-c97e-46a7-818a-e59250375d15', tool_call_id='call_gVuKVfI5YxOLHeC28m3hCTA5'),\n",
      " AIMessage(content='The GREAT Protector Active basic plan is designed to support an active lifestyle with comprehensive coverage. Here are the key details:\\n\\n- **Daily Rate**: S$0.89\\n- **Monthly Rate**: S$27.98\\n- **Annual Rate**: S$325.99\\n\\nThis plan is part of a personal accident insurance that offers up to S$3 million in coverage against accidents, including Accidental Major Permanent Disablement. This high coverage amount ensures that medical and caregiving expenses can be supported, helping you adjust to lifestyle changes after an accident.\\n\\nThe premium rates include the prevailing rate of GST and are subject to change based on future experiences. The rates are calculated based on the annual premium divided by 365 days and rounded to the nearest cent.\\n\\nFor more specific benefits or conditions, additional details from the policy documents would be required.', additional_kwargs={'refusal': None}, response_metadata={'token_usage': {'completion_tokens': 169, 'prompt_tokens': 936, 'total_tokens': 1105, 'completion_tokens_details': {'accepted_prediction_tokens': 0, 'audio_tokens': 0, 'reasoning_tokens': 0, 'rejected_prediction_tokens': 0}, 'prompt_tokens_details': {'audio_tokens': 0, 'cached_tokens': 0}}, 'model_name': 'gpt-4-turbo-2024-04-09', 'system_fingerprint': 'fp_de235176ee', 'id': 'chatcmpl-BihxCIvrinISHAl3H1eGO1RdMfmZK', 'service_tier': 'default', 'finish_reason': 'stop', 'logprobs': None}, id='run--cd7c9941-799e-49c2-8140-7efe15efbe49-0', usage_metadata={'input_tokens': 936, 'output_tokens': 169, 'total_tokens': 1105, 'input_token_details': {'audio': 0, 'cache_read': 0}, 'output_token_details': {'audio': 0, 'reasoning': 0}})]\n",
      "---------------------------------------------------\n",
      "[HumanMessage(content='You are an intelligent assistant. Be friendly and use the tools to help you.\\n                                The tool contain all the insurance details need to know about. Only use these insurance information.\\n                                Do not hallucinate.If you do not know an answer, reply that you do not know.\\n                                Question :\\n                                Tell me more about GREAT Protector Active basic plan', metadata=None, type='human'),\n",
      " AIMessage(content='', metadata=None, type='ai', tool_calls=[ToolCall(name='retriever', args={'query': 'GREAT Protector Active basic plan'})]),\n",
      " ToolMessage(content=\"[Document(metadata={'source': '/Users/user/Documents/agent_rag_langgraph/agent_rag_langgraph/data/gels-pdt-gpa-brochure.md'}, page_content='Plans to suit every need\\\\n\\\\nBasic S$0.89 /day [^]\\\\n\\\\nS$27.98/month [#]\\\\n\\\\nS$325.99/year [#]\\\\n\\\\nClassic S$$1.45 /day [^]\\\\n\\\\nS$45.46/month [#]\\\\n\\\\nS$529.72/year [#]\\\\n\\\\nElite S$2.37 /day [^]\\\\n\\\\nS$74.32/month [#]\\\\n\\\\nS$865.89/year [#]\\\\n\\\\nHere’s how GREAT Protector Active supports your active lifestyle\\\\n\\\\nDanielle'), Document(metadata={'source': '/Users/user/Documents/agent_rag_langgraph/agent_rag_langgraph/data/gels-pdt-gpa-brochure.md'}, page_content='Personal accident\\\\n\\\\nGREAT Protector Active\\\\n\\\\nAll the protection you need to enjoy a more active lifestyle\\\\n\\\\nWhy GREAT Protector Active\\\\n\\\\nGet up to S$3 million in coverage against accidents Benefit from one of the highest personal accident plan that provides up to S$3 million in coverage against Accidental Major Permanent Disablement. [3] With the high lump sum payout, your medical\\\\n\\\\nand caregiving expenses can be supported while you adjust to your lifestyle changes.'), Document(metadata={'source': '/Users/user/Documents/agent_rag_langgraph/agent_rag_langgraph/data/gels-pdt-gpa-brochure.md'}, page_content='^ Daily rates are based on the annual premium of GREAT Protector Active Basic, Classic or Elite, whichever applicable, divided by 365 days and rounded off to the nearest cent.\\\\n\\\\nPremium rates include the prevailing rate of GST. The prevailing rate of GST is subject to change. The premium rates for this\\\\n\\\\npolicy are not guaranteed and may be adjusted based on future experience.\\\\n\\\\nTable of benefts i\\\\n\\\\ni\\\\n\\\\ni\\\\n\\\\ni\\\\n\\\\ni'), Document(metadata={'source': '/Users/user/Documents/agent_rag_langgraph/agent_rag_langgraph/data/gels-pdt-gpa-brochure.md'}, page_content='Danielle loses the sight in\\\\n\\\\nher right eye due to a tennis\\\\n\\\\ninjury and receives a payout of S$1,500,000 .\\\\n\\\\nDanielle breaks her tooth\\\\n\\\\nwhile having a meal on a trip\\\\n\\\\nin Malaysia. She claims for a\\\\n\\\\nmedical expense reimbursement of up to S$7,500 .\\\\n\\\\n^ Daily rates are based on the annual premium of GREAT Protector Active Basic, Classic or Elite, whichever applicable, divided by 365 days and rounded off to the nearest cent.'), Document(metadata={'source': '/Users/user/Documents/agent_rag_langgraph/agent_rag_langgraph/data/gels-pdt-gpa-brochure.md'}, page_content='4 Benefit Booster provides up to 150% of payout under all sections listed in the table of benefits except the sub-limits under Accidental Medical Expense Reimbursement. Benefit Booster is only applicable when the Life Assured suffers injuries from: (i) accidents while on public conveyance as a passenger, (ii) being involved in a road traffic accident as a pedestrian, cyclist or passenger; or (iii) accidents while outside of Singapore.\\\\n\\\\nPlans to suit every need\\\\n\\\\nBasic S$0.89 /day [^]')]\", metadata=None, type='tool'),\n",
      " AIMessage(content='The GREAT Protector Active basic plan is designed to support an active lifestyle with comprehensive coverage. Here are the key details:\\n\\n- **Daily Rate**: S$0.89\\n- **Monthly Rate**: S$27.98\\n- **Annual Rate**: S$325.99\\n\\nThis plan is part of a personal accident insurance that offers up to S$3 million in coverage against accidents, including Accidental Major Permanent Disablement. This high coverage amount ensures that medical and caregiving expenses can be supported, helping you adjust to lifestyle changes after an accident.\\n\\nThe premium rates include the prevailing rate of GST and are subject to change based on future experiences. The rates are calculated based on the annual premium divided by 365 days and rounded to the nearest cent.\\n\\nFor more specific benefits or conditions, additional details from the policy documents would be required.', metadata=None, type='ai', tool_calls=[])]\n",
      "1.0\n",
      "1.0\n"
=======
      "================================\u001b[1m Human Message \u001b[0m=================================\n",
      "\n",
      "You are an assistant for question-answering tasks. Use the following pieces of retrieved context to answer the question. If you don't know the answer, just say that you don't know. Use three sentences maximum and keep the answer concise.\n",
      "Question: \u001b[33;1m\u001b[1;3m{question}\u001b[0m \n",
      "Context: \u001b[33;1m\u001b[1;3m{context}\u001b[0m \n",
      "Answer:\n"
>>>>>>> f03b720 (fix : changed langgraph workflow)
     ]
    }
   ],
   "source": [
<<<<<<< HEAD
    "tools = [retriever]\n",
    "tool_node = ToolNode(tools)\n",
    "\n",
    "# # OpenAI LLM model\n",
    "model = ChatOpenAI(model=\"gpt-4-turbo\", temperature=0, api_key=api_key).bind_tools(\n",
    "    tools\n",
    ")\n",
    "# res = model.invoke(\"Hi\")\n",
    "# pprint(res.content)\n",
    "\n",
    "def StateDict(TypedDict):\n",
    "    messages: list[AnyMessage]\n",
    "\n",
    "# Function to decide whether to continue or stop the workflow\n",
    "def should_continue(state: StateDict) -> Literal[\"tools\", END]:\n",
    "    messages = state[\"messages\"]\n",
    "    last_message = messages[-1]\n",
    "    # If the LLM makes a tool call, go to the \"tools\" node\n",
    "    if last_message.tool_calls:\n",
    "        return \"tools\"\n",
    "    # Otherwise, finish the workflow\n",
    "    return END\n",
    "\n",
    "# Function that invokes the model\n",
    "def call_model(state: StateDict):\n",
    "    messages = state[\"messages\"]\n",
    "    response = model.invoke(messages)\n",
    "    return {\"messages\": [response]}  # Returns as a list to add to the state\n",
    "\n",
    "# Define the workflow with LangGraph\n",
    "workflow = StateGraph(StateDict)\n",
    "\n",
    "# Add nodes to the graph\n",
    "workflow.add_node(\"agent\", call_model)\n",
    "workflow.add_node(\"tools\", tool_node)\n",
    "\n",
    "# Connect nodes\n",
    "workflow.add_edge(START, \"agent\")  # Initial entry\n",
    "workflow.add_conditional_edges(\n",
    "    \"agent\", should_continue\n",
    ")  # Decision after the \"agent\" node\n",
    "workflow.add_edge(\"tools\", \"agent\")  # Cycle between tools and agent\n",
    "\n",
    "# Configure memory to persist the state\n",
    "checkpointer = MemorySaver()\n",
    "\n",
    "# Compile the graph into a LangChain Runnable application\n",
    "app = workflow.compile(checkpointer=checkpointer)\n",
    "\n",
    "# Execute the workflow\n",
    "final_state = app.invoke(\n",
    "    {\n",
    "        \"messages\": [\n",
    "            HumanMessage(\n",
    "                content=\"\"\"You are an intelligent assistant. Be friendly and use the tools to help you.\n",
    "                                The tool contain all the insurance details need to know about. Only use these insurance information.\n",
    "                                Do not hallucinate.If you do not know an answer, reply that you do not know.\n",
    "                                Question :\n",
    "                                Tell me more about GREAT Protector Active basic plan\"\"\"\n",
    "            )\n",
    "        ]\n",
    "    },\n",
    "    config={\"configurable\": {\"thread_id\": 42}},\n",
    ")\n",
    "\n",
    "# Show the final response\n",
    "print(final_state[\"messages\"][-1].content) # last convo answer only \n",
    "print(\"-------------------------------------------------\")\n",
    "pprint(final_state[\"messages\"]) # last convo \n",
    "print(\"---------------------------------------------------\")\n",
    "# pprint(list(app.get_state_history({\"configurable\": {\"thread_id\": 42}}))) # view all the thread convo\n",
    "from ragas.integrations.langgraph import convert_to_ragas_messages\n",
    "\n",
    "ragas_trace = convert_to_ragas_messages(\n",
    "    final_state[\"messages\"]\n",
    ")  # List of Ragas messages converted using the Ragas function\n",
    "\n",
    "pprint(ragas_trace)# changes to ragas format \n",
    "\n",
    "## Check tool call accuracy \n",
    "from ragas.metrics import ToolCallAccuracy\n",
    "from ragas.dataset_schema import MultiTurnSample\n",
    "import ragas.messages as r\n",
    "\n",
    "sample = MultiTurnSample(\n",
    "user_input=ragas_trace,\n",
    "reference_tool_calls=[\n",
    "    r.ToolCall(name=\"retriever\", args={'query': 'GREAT Protector Active basic plan'})\n",
    "],\n",
    ")\n",
    "\n",
    "# tool_accuracy_scorer = ToolCallAccuracy()\n",
    "# tool_accuracy_scorer.llm = ChatOpenAI(model=\"gpt-4-turbo\")\n",
    "\n",
    "# print(await tool_accuracy_scorer.multi_turn_ascore(sample))\n",
    "import asyncio\n",
    "async def eval_tool_accuracy():\n",
    "    tool_accuracy_scorer = ToolCallAccuracy()\n",
    "    tool_accuracy_scorer.llm = ChatOpenAI(model=\"gpt-4-turbo\")\n",
    "\n",
    "    result = await tool_accuracy_scorer.multi_turn_ascore(sample)\n",
    "    print(result)\n",
    "asyncio.run(eval_tool_accuracy())\n",
    "\n",
    "from ragas.dataset_schema import MultiTurnSample\n",
    "from ragas.metrics import AgentGoalAccuracyWithReference\n",
    "from ragas.llms import LangchainLLMWrapper\n",
    "\n",
    "async def eval_answer_accuracy():\n",
    "    sample = MultiTurnSample(\n",
    "    user_input=ragas_trace,\n",
    "    reference=\"details about GREAT Protector Active basic plan\",\n",
    ")\n",
    "\n",
    "    scorer = AgentGoalAccuracyWithReference()\n",
    "\n",
    "    evaluator_llm = LangchainLLMWrapper(ChatOpenAI(model=\"gpt-4-turbo\"))\n",
    "    scorer.llm = evaluator_llm\n",
    "    result = await scorer.multi_turn_ascore(sample)\n",
    "    print(result)\n",
    "asyncio.run(eval_answer_accuracy())"
=======
    "from typing import Annotated, Literal, Sequence, TypedDict\n",
    "\n",
    "from langchain import hub\n",
    "from langchain_core.messages import BaseMessage, HumanMessage\n",
    "from langchain_core.output_parsers import StrOutputParser\n",
    "from langchain_core.prompts import PromptTemplate\n",
    "from langchain_core.pydantic_v1 import BaseModel, Field\n",
    "from langchain_openai import ChatOpenAI\n",
    "\n",
    "from langgraph.prebuilt import tools_condition\n",
    "\n",
    "### Edges\n",
    "\n",
    "\n",
    "def grade_documents(state) -> Literal[\"generate\", \"rewrite\"]:\n",
    "    \"\"\"\n",
    "    Determines whether the retrieved documents are relevant to the question.\n",
    "\n",
    "    Args:\n",
    "        state (messages): The current state\n",
    "\n",
    "    Returns:\n",
    "        str: A decision for whether the documents are relevant or not\n",
    "    \"\"\"\n",
    "\n",
    "    print(\"---CHECK RELEVANCE---\")\n",
    "\n",
    "    # Data model\n",
    "    class grade(BaseModel):\n",
    "        \"\"\"Binary score for relevance check.\"\"\"\n",
    "\n",
    "        binary_score: str = Field(description=\"Relevance score 'yes' or 'no'\")\n",
    "\n",
    "    # LLM\n",
    "    model = ChatOpenAI(temperature=0, model=\"gpt-4-turbo\", streaming=True)\n",
    "\n",
    "    # LLM with tool and validation\n",
    "    llm_with_tool = model.with_structured_output(grade)\n",
    "\n",
    "    # Prompt\n",
    "    prompt = PromptTemplate(\n",
    "        template=\"\"\"You are a grader assessing relevance of a retrieved document to a user question. \\n \n",
    "        Here is the retrieved document: \\n\\n {context} \\n\\n\n",
    "        Here is the user question: {question} \\n\n",
    "        If the document contains keyword(s) or semantic meaning related to the user question, grade it as relevant. \\n\n",
    "        Give a binary score 'yes' or 'no' score to indicate whether the document is relevant to the question.\"\"\",\n",
    "        input_variables=[\"context\", \"question\"],\n",
    "    )\n",
    "\n",
    "    # Chain\n",
    "    chain = prompt | llm_with_tool\n",
    "\n",
    "    messages = state[\"messages\"]\n",
    "    last_message = messages[-1]\n",
    "\n",
    "    question = messages[0].content\n",
    "    docs = last_message.content\n",
    "\n",
    "    scored_result = chain.invoke({\"question\": question, \"context\": docs})\n",
    "\n",
    "    score = scored_result.binary_score\n",
    "\n",
    "    if score == \"yes\":\n",
    "        print(\"---DECISION: DOCS RELEVANT---\")\n",
    "        return \"generate\"\n",
    "\n",
    "    else:\n",
    "        print(\"---DECISION: DOCS NOT RELEVANT---\")\n",
    "        print(score)\n",
    "        return \"rewrite\"\n",
    "\n",
    "\n",
    "### Nodes\n",
    "\n",
    "\n",
    "def agent(state):\n",
    "    \"\"\"\n",
    "    Invokes the agent model to generate a response based on the current state. Given\n",
    "    the question, it will decide to retrieve using the retriever tool, or simply end.\n",
    "\n",
    "    Args:\n",
    "        state (messages): The current state\n",
    "\n",
    "    Returns:\n",
    "        dict: The updated state with the agent response appended to messages\n",
    "    \"\"\"\n",
    "    print(\"---CALL AGENT---\")\n",
    "    messages = state[\"messages\"]\n",
    "    model = ChatOpenAI(temperature=0, streaming=True, model=\"gpt-4-turbo\")\n",
    "    model = model.bind_tools(tools)\n",
    "    response = model.invoke(messages)\n",
    "    # We return a list, because this will get added to the existing list\n",
    "    return {\"messages\": [response]}\n",
    "\n",
    "\n",
    "def rewrite(state):\n",
    "    \"\"\"\n",
    "    Transform the query to produce a better question.\n",
    "\n",
    "    Args:\n",
    "        state (messages): The current state\n",
    "\n",
    "    Returns:\n",
    "        dict: The updated state with re-phrased question\n",
    "    \"\"\"\n",
    "\n",
    "    print(\"---TRANSFORM QUERY---\")\n",
    "    messages = state[\"messages\"]\n",
    "    question = messages[0].content\n",
    "\n",
    "    msg = [\n",
    "        HumanMessage(\n",
    "            content=f\"\"\" \\n \n",
    "    Look at the input and try to reason about the underlying semantic intent / meaning. \\n \n",
    "    Here is the initial question:\n",
    "    \\n ------- \\n\n",
    "    {question} \n",
    "    \\n ------- \\n\n",
    "    Formulate an improved question: \"\"\",\n",
    "        )\n",
    "    ]\n",
    "\n",
    "    # Grader\n",
    "    model = ChatOpenAI(temperature=0, model=\"gpt-3.5-turbo\", streaming=True)\n",
    "    response = model.invoke(msg)\n",
    "    return {\"messages\": [response]}\n",
    "\n",
    "\n",
    "def generate(state):\n",
    "    \"\"\"\n",
    "    Generate answer\n",
    "\n",
    "    Args:\n",
    "        state (messages): The current state\n",
    "\n",
    "    Returns:\n",
    "         dict: The updated state with re-phrased question\n",
    "    \"\"\"\n",
    "    print(\"---GENERATE---\")\n",
    "    messages = state[\"messages\"]\n",
    "    question = messages[0].content\n",
    "    last_message = messages[-1]\n",
    "\n",
    "    docs = last_message.content\n",
    "\n",
    "    # Prompt\n",
    "    prompt = hub.pull(\"rlm/rag-prompt\")\n",
    "\n",
    "    # LLM\n",
    "    llm = ChatOpenAI(model_name=\"gpt-3.5-turbo\", temperature=0, streaming=True)\n",
    "\n",
    "    # Post-processing\n",
    "    def format_docs(docs):\n",
    "        return \"\\n\\n\".join(doc.page_content for doc in docs)\n",
    "\n",
    "    # Chain\n",
    "    rag_chain = prompt | llm | StrOutputParser()\n",
    "\n",
    "    # Run\n",
    "    response = rag_chain.invoke({\"context\": docs, \"question\": question})\n",
    "    return {\"messages\": [response]}\n",
    "\n",
    "\n",
    "print(\"*\" * 20 + \"Prompt[rlm/rag-prompt]\" + \"*\" * 20)\n",
    "prompt = hub.pull(\"rlm/rag-prompt\").pretty_print()  # Show what the prompt looks like"
>>>>>>> f03b720 (fix : changed langgraph workflow)
   ]
  },
  {
   "cell_type": "code",
<<<<<<< HEAD
   "execution_count": 16,
   "id": "8d9c965e",
=======
   "execution_count": null,
   "id": "d49d4b9b",
   "metadata": {},
   "outputs": [],
   "source": [
    "from langgraph.graph import END, StateGraph, START\n",
    "from langgraph.prebuilt import ToolNode\n",
    "\n",
    "# Define a new graph\n",
    "workflow = StateGraph(AgentState)\n",
    "\n",
    "# Define the nodes we will cycle between\n",
    "workflow.add_node(\"agent\", agent)  # agent\n",
    "retrieve = ToolNode([compress_retriever_tool])\n",
    "workflow.add_node(\"retrieve\", retrieve)  # retrieval\n",
    "workflow.add_node(\"rewrite\", rewrite)  # Re-writing the question\n",
    "workflow.add_node(\n",
    "    \"generate\", generate\n",
    ")  # Generating a response after we know the documents are relevant\n",
    "# Call agent node to decide to retrieve or not\n",
    "workflow.add_edge(START, \"agent\")\n",
    "\n",
    "# Decide whether to retrieve\n",
    "workflow.add_conditional_edges(\n",
    "    \"agent\",\n",
    "    # Assess agent decision\n",
    "    tools_condition,\n",
    "    {\n",
    "        # Translate the condition outputs to nodes in our graph\n",
    "        \"tools\": \"retrieve\",\n",
    "        END: END,\n",
    "    },\n",
    ")\n",
    "\n",
    "# Edges taken after the `action` node is called.\n",
    "workflow.add_conditional_edges(\n",
    "    \"retrieve\",\n",
    "    # Assess agent decision\n",
    "    grade_documents,\n",
    ")\n",
    "workflow.add_edge(\"generate\", END)\n",
    "workflow.add_edge(\"rewrite\", \"agent\")\n",
    "\n",
    "# Compile\n",
    "graph = workflow.compile()"
   ]
  },
  {
   "cell_type": "code",
   "execution_count": 42,
   "id": "644b5f49",
>>>>>>> f03b720 (fix : changed langgraph workflow)
   "metadata": {},
   "outputs": [
    {
     "data": {
<<<<<<< HEAD
      "image/png": "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",
=======
      "image/png": "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",
>>>>>>> f03b720 (fix : changed langgraph workflow)
      "text/plain": [
       "<IPython.core.display.Image object>"
      ]
     },
     "metadata": {},
     "output_type": "display_data"
    }
   ],
   "source": [
    "from IPython.display import Image, display\n",
    "\n",
<<<<<<< HEAD
    "display(Image(app.get_graph().draw_mermaid_png()))"
=======
    "try:\n",
    "    display(Image(graph.get_graph(xray=True).draw_mermaid_png()))\n",
    "except Exception:\n",
    "    # This requires some extra dependencies and is optional\n",
    "    pass"
   ]
  },
  {
   "cell_type": "code",
   "execution_count": 43,
   "id": "7879d2a7",
   "metadata": {},
   "outputs": [
    {
     "name": "stdout",
     "output_type": "stream",
     "text": [
      "---CALL AGENT---\n",
      "\"Output from node 'agent':\"\n",
      "'---'\n",
      "{ 'messages': [ AIMessage(content='', additional_kwargs={'tool_calls': [{'index': 0, 'id': 'call_56rvEeHGU7al8OvlBfRDwXTX', 'function': {'arguments': '{\"query\":\"great active protector insurance plan\"}', 'name': 'uploaded_insurance_document'}, 'type': 'function'}]}, response_metadata={'finish_reason': 'tool_calls', 'model_name': 'gpt-4-turbo-2024-04-09', 'system_fingerprint': 'fp_de235176ee', 'service_tier': 'default'}, id='run--276b0352-b4e9-45d4-bb15-6f9bb22c9de5-0', tool_calls=[{'name': 'uploaded_insurance_document', 'args': {'query': 'great active protector insurance plan'}, 'id': 'call_56rvEeHGU7al8OvlBfRDwXTX', 'type': 'tool_call'}])]}\n",
      "'\\n---\\n'\n",
      "---CHECK RELEVANCE---\n"
     ]
    },
    {
     "name": "stderr",
     "output_type": "stream",
     "text": [
      "/opt/anaconda3/envs/agent_rag_langgraph_env/lib/python3.11/site-packages/langchain_openai/chat_models/base.py:1677: UserWarning: Received a Pydantic BaseModel V1 schema. This is not supported by method=\"json_schema\". Please use method=\"function_calling\" or specify schema via JSON Schema or Pydantic V2 BaseModel. Overriding to method=\"function_calling\".\n",
      "  warnings.warn(\n",
      "/opt/anaconda3/envs/agent_rag_langgraph_env/lib/python3.11/site-packages/langchain_openai/chat_models/base.py:1690: UserWarning: Cannot use method='json_schema' with model gpt-4-turbo since it doesn't support OpenAI's Structured Output API. You can see supported models here: https://platform.openai.com/docs/guides/structured-outputs#supported-models. To fix this warning, set `method='function_calling'. Overriding to method='function_calling'.\n",
      "  warnings.warn(\n"
     ]
    },
    {
     "name": "stdout",
     "output_type": "stream",
     "text": [
      "---DECISION: DOCS RELEVANT---\n",
      "\"Output from node 'retrieve':\"\n",
      "'---'\n",
      "{ 'messages': [ ToolMessage(content='Personal accident\\n\\nGREAT Protector Active\\n\\nAll the protection you need to enjoy a more active lifestyle\\n\\nWhy GREAT Protector Active\\n\\nGet up to S$3 million in coverage against accidents Benefit from one of the highest personal accident plan that provides up to S$3 million in coverage against Accidental Major Permanent Disablement. [3] With the high lump sum payout, your medical\\n\\nand caregiving expenses can be supported while you adjust to your lifestyle changes.\\n\\nPersonal accident\\n\\nGREAT Protector Active\\n\\nAll the protection you need to enjoy a more active lifestyle\\n\\nWhy GREAT Protector Active\\n\\nGet up to S$3 million in coverage against accidents Benefit from one of the highest personal accident plan that provides up to S$3 million in coverage against Accidental Major Permanent Disablement. [3] With the high lump sum payout, your medical\\n\\nand caregiving expenses can be supported while you adjust to your lifestyle changes.\\n\\nS$45.46/month [#]\\n\\nS$529.72/year [#]\\n\\nElite S$2.37 /day [^]\\n\\nS$74.32/month [#]\\n\\nS$865.89/year [#]\\n\\nHere’s how GREAT Protector Active supports your active lifestyle\\n\\nDanielle\\n\\nDanielle, a graduate school student who loves outdoor activities and travelling, signs up for GREAT Protector Active (Elite) with a Sum Assured of S$1,000,000 to safeguard against the unexpected. Her annual premium is S$865.89 [#] .\\n\\nDanielle loses the sight in\\n\\nher right eye due to a tennis\\n\\nS$45.46/month [#]\\n\\nS$529.72/year [#]\\n\\nElite S$2.37 /day [^]\\n\\nS$74.32/month [#]\\n\\nS$865.89/year [#]\\n\\nHere’s how GREAT Protector Active supports your active lifestyle\\n\\nDanielle\\n\\nDanielle, a graduate school student who loves outdoor activities and travelling, signs up for GREAT Protector Active (Elite) with a Sum Assured of S$1,000,000 to safeguard against the unexpected. Her annual premium is S$865.89 [#] .\\n\\nDanielle loses the sight in\\n\\nher right eye due to a tennis\\n\\nPlans to suit every need\\n\\nBasic S$0.89 /day [^]\\n\\nS$27.98/month [#]\\n\\nS$325.99/year [#]\\n\\nClassic S$$1.45 /day [^]\\n\\nS$45.46/month [#]\\n\\nS$529.72/year [#]\\n\\nElite S$2.37 /day [^]\\n\\nS$74.32/month [#]\\n\\nS$865.89/year [#]\\n\\nHere’s how GREAT Protector Active supports your active lifestyle\\n\\nDanielle', name='uploaded_insurance_document', id='b90f9a74-3730-4afb-8a42-c40fa166ca4a', tool_call_id='call_56rvEeHGU7al8OvlBfRDwXTX')]}\n",
      "'\\n---\\n'\n",
      "---GENERATE---\n"
     ]
    },
    {
     "name": "stderr",
     "output_type": "stream",
     "text": [
      "/opt/anaconda3/envs/agent_rag_langgraph_env/lib/python3.11/site-packages/langsmith/client.py:272: LangSmithMissingAPIKeyWarning: API key must be provided when using hosted LangSmith API\n",
      "  warnings.warn(\n"
     ]
    },
    {
     "name": "stdout",
     "output_type": "stream",
     "text": [
      "\"Output from node 'generate':\"\n",
      "'---'\n",
      "{ 'messages': [ 'The GREAT Protector Active insurance plan offers coverage of '\n",
      "                'up to S$3 million against accidents, including Accidental '\n",
      "                'Major Permanent Disablement. The plan provides a high lump '\n",
      "                'sum payout to support medical and caregiving expenses during '\n",
      "                'lifestyle adjustments. The Elite plan, with a Sum Assured of '\n",
      "                'S$1,000,000, is suitable for individuals like Danielle who '\n",
      "                'lead active lifestyles and want protection against unexpected '\n",
      "                'accidents.']}\n",
      "'\\n---\\n'\n"
     ]
    }
   ],
   "source": [
    "import pprint\n",
    "\n",
    "inputs = {\n",
    "    \"messages\": [\n",
    "        (\"user\", \"Tell me great active protector insurance plan?\"),\n",
    "    ]\n",
    "}\n",
    "for output in graph.stream(inputs):\n",
    "    for key, value in output.items():\n",
    "        pprint.pprint(f\"Output from node '{key}':\")\n",
    "        pprint.pprint(\"---\")\n",
    "        pprint.pprint(value, indent=2, width=80, depth=None)\n",
    "    pprint.pprint(\"\\n---\\n\")"
   ]
  },
  {
   "cell_type": "markdown",
   "id": "6f68e0c3",
   "metadata": {},
   "source": [
    "# Test Memory "
   ]
  },
  {
   "cell_type": "code",
   "execution_count": 44,
   "id": "b6534139",
   "metadata": {},
   "outputs": [],
   "source": [
    "from langgraph.prebuilt import create_react_agent\n",
    "from langgraph.checkpoint.memory import InMemorySaver\n",
    "from langgraph.store.memory import InMemoryStore\n",
    "\n",
    "checkpointer = InMemorySaver()\n",
    "store = InMemoryStore()\n",
    "\n"
   ]
  },
  {
   "cell_type": "code",
   "execution_count": 47,
   "id": "63328ffa",
   "metadata": {},
   "outputs": [],
   "source": [
    "model = ChatOpenAI(temperature=0, streaming=True, model=\"gpt-4-turbo\")\n",
    "agent = create_react_agent(model, tools=[], store=store, checkpointer=checkpointer)"
   ]
  },
  {
   "cell_type": "code",
   "execution_count": 48,
   "id": "11b36424",
   "metadata": {},
   "outputs": [],
   "source": [
    "def chat(agent, txt, thread_id):\n",
    "    result_state = agent.invoke({\"messages\": [{\"role\": \"user\", \"content\": txt}]}, config={\"configurable\": {\"thread_id\": thread_id}})\n",
    "    return result_state[\"messages\"][-1].content"
   ]
  },
  {
   "cell_type": "code",
   "execution_count": 51,
   "id": "30f950e8",
   "metadata": {},
   "outputs": [
    {
     "name": "stdout",
     "output_type": "stream",
     "text": [
      "('Certainly! Preparing for a half marathon in two months is a feasible goal if '\n",
      " 'you already have a base level of fitness. Below is a structured 8-week '\n",
      " 'training plan that includes running, cross-training, and rest days to help '\n",
      " 'you build endurance and speed safely.\\n'\n",
      " '\\n'\n",
      " '### Week 1-2: Base Building\\n'\n",
      " '- **Monday**: Rest\\n'\n",
      " '- **Tuesday**: 3 miles easy pace\\n'\n",
      " '- **Wednesday**: Cross-training (e.g., cycling, swimming) for 30-45 minutes\\n'\n",
      " '- **Thursday**: 3 miles easy pace\\n'\n",
      " '- **Friday**: Rest or light yoga/stretching\\n'\n",
      " '- **Saturday**: Long run, start with 4 miles\\n'\n",
      " '- **Sunday**: 2 miles easy or rest\\n'\n",
      " '\\n'\n",
      " '### Week 3-4: Endurance and Speed Introduction\\n'\n",
      " '- **Monday**: Rest\\n'\n",
      " '- **Tuesday**: 4 miles (include some intervals: 4x400m at a faster pace with '\n",
      " 'recovery)\\n'\n",
      " '- **Wednesday**: Cross-training for 45 minutes\\n'\n",
      " '- **Thursday**: 4 miles easy pace\\n'\n",
      " '- **Friday**: Rest or light yoga/stretching\\n'\n",
      " '- **Saturday**: Long run, increase to 5 miles\\n'\n",
      " '- **Sunday**: 2-3 miles easy or rest\\n'\n",
      " '\\n'\n",
      " '### Week 5-6: Building Peak Mileage\\n'\n",
      " '- **Monday**: Rest\\n'\n",
      " '- **Tuesday**: 5 miles (with middle mile at a slightly harder pace)\\n'\n",
      " '- **Wednesday**: Cross-training for 45 minutes\\n'\n",
      " '- **Thursday**: 5 miles easy pace\\n'\n",
      " '- **Friday**: Rest or light yoga/stretching\\n'\n",
      " '- **Saturday**: Long run, increase to 7 miles\\n'\n",
      " '- **Sunday**: 3 miles easy or rest\\n'\n",
      " '\\n'\n",
      " '### Week 7: Tapering Begins\\n'\n",
      " '- **Monday**: Rest\\n'\n",
      " '- **Tuesday**: 4 miles easy pace\\n'\n",
      " '- **Wednesday**: Cross-training for 30 minutes\\n'\n",
      " '- **Thursday**: 3 miles with some speed work (e.g., 6x200m fast with full '\n",
      " 'recovery)\\n'\n",
      " '- **Friday**: Rest or light yoga/stretching\\n'\n",
      " '- **Saturday**: Long run, 8 miles\\n'\n",
      " '- **Sunday**: Rest\\n'\n",
      " '\\n'\n",
      " '### Week 8: Race Week\\n'\n",
      " '- **Monday**: Rest\\n'\n",
      " '- **Tuesday**: 3 miles easy pace\\n'\n",
      " '- **Wednesday**: 2 miles easy pace or cross-training for 20 minutes\\n'\n",
      " '- **Thursday**: Rest\\n'\n",
      " '- **Friday**: 2 miles easy pace with a few strides\\n'\n",
      " '- **Saturday**: Rest and prepare for race day\\n'\n",
      " '- **Sunday**: Race Day!\\n'\n",
      " '\\n'\n",
      " '### Additional Tips:\\n'\n",
      " '1. **Hydration and Nutrition**: Proper hydration and nutrition are crucial, '\n",
      " 'especially on long run days. Experiment with hydration strategies and energy '\n",
      " 'gels or snacks during your longer runs to see what works best for you.\\n'\n",
      " '2. **Pacing**: Try to keep your easy runs truly easy. Use a pace that allows '\n",
      " 'you to converse comfortably.\\n'\n",
      " '3. **Cross-Training**: This helps improve your aerobic fitness while giving '\n",
      " 'your running muscles a break. Choose low-impact activities like swimming or '\n",
      " 'cycling.\\n'\n",
      " '4. **Rest Days**: These are just as important as training days, allowing '\n",
      " 'your body to recover and reduce the risk of injury.\\n'\n",
      " '5. **Gear**: Ensure you have a good pair of running shoes and consider '\n",
      " 'replacing them if they have too many miles on them (generally 300-500 miles '\n",
      " 'per pair).\\n'\n",
      " '\\n'\n",
      " 'Listen to your body throughout the training. If you feel undue pain or '\n",
      " 'fatigue, consider adjusting the intensity or taking extra rest. Good luck '\n",
      " 'with your half marathon training!')\n"
     ]
    }
   ],
   "source": [
    "thread_1 = \"thread-1\"\n",
    "res = chat(agent, \"Hi there, I'm training for a half marathon in 2 months - could you propose a daily training plan to prepare?\", thread_1)\n",
    "pprint.pprint(res)"
   ]
  },
  {
   "cell_type": "code",
   "execution_count": 52,
   "id": "e08ebd29",
   "metadata": {},
   "outputs": [
    {
     "data": {
      "text/plain": [
       "\"Best of luck with your half marathon training and race day! Stay focused, train smart, and most importantly, enjoy the journey. You're going to do great! If you have any more questions or need further advice along the way, feel free to ask. Happy running!\""
      ]
     },
     "execution_count": 52,
     "metadata": {},
     "output_type": "execute_result"
    }
   ],
   "source": [
    "chat(agent, \"Nice! Wish me luck!\", thread_1)"
   ]
  },
  {
   "cell_type": "markdown",
   "id": "8c78e7cf",
   "metadata": {},
   "source": [
    "*Observation* : Same thread will have memory. Lets say i start different thread, it will forget the context"
   ]
  },
  {
   "cell_type": "code",
   "execution_count": 53,
   "id": "a8a4b677",
   "metadata": {},
   "outputs": [
    {
     "data": {
      "text/plain": [
       "\"Good luck! Whatever you're heading into, I hope it goes wonderfully for you. If you need any advice or support, feel free to ask!\""
      ]
     },
     "execution_count": 53,
     "metadata": {},
     "output_type": "execute_result"
    }
   ],
   "source": [
    "thread_2 = \"thread-2\"\n",
    "chat(agent, \"Nice! Wish me luck!\", thread_2)"
   ]
  },
  {
   "cell_type": "markdown",
   "id": "e41d5c66",
   "metadata": {},
   "source": [
    "*Observation* : Forgets that the wishes are for marathon"
   ]
  },
  {
   "cell_type": "markdown",
   "id": "066b4886",
   "metadata": {},
   "source": [
    "*THREAD*\n",
    "- Checkpointer\n",
    "- Store \n",
    "\n",
    "Helps to remember the context in the same thread. This is also short term memory."
   ]
  },
  {
   "cell_type": "markdown",
   "id": "130a9b8b",
   "metadata": {},
   "source": [
    "**ADD MEMORY**\n",
    "- 2 tools so that even tho there are multiple threads. the agent can remember what is going on"
   ]
  },
  {
   "cell_type": "code",
   "execution_count": 57,
   "id": "3f031d38",
   "metadata": {},
   "outputs": [],
   "source": [
    "from langmem import create_manage_memory_tool, create_search_memory_tool\n",
    "\n",
    "store = InMemoryStore(\n",
    "    index={\n",
    "        \"dims\": 1536,\n",
    "        \"embed\": \"openai:text-embedding-3-small\"\n",
    "    }\n",
    ")\n",
    "\n",
    "namespace = (\"agent_memories\",)\n",
    "memory_tools = [\n",
    "    create_manage_memory_tool(namespace),\n",
    "    create_search_memory_tool(namespace)\n",
    "]\n",
    "checkpointer = InMemorySaver()\n",
    "agent = create_react_agent(model, tools=memory_tools, store=store, checkpointer=checkpointer)\n"
   ]
  },
  {
   "cell_type": "markdown",
   "id": "9e6d6fc8",
   "metadata": {},
   "source": [
    "Running the same situation as before with 2 threads"
   ]
  },
  {
   "cell_type": "code",
   "execution_count": 63,
   "id": "c3bb10d9",
   "metadata": {},
   "outputs": [
    {
     "data": {
      "text/plain": [
       "'It looks like you already have a training plan for your half marathon that we discussed previously. Would you like to review that plan, or are you looking for a different type of training schedule or additional advice?'"
      ]
     },
     "execution_count": 63,
     "metadata": {},
     "output_type": "execute_result"
    }
   ],
   "source": [
    "thread_1 = \"thread-1\"\n",
    "chat(agent, \"Hi there, I'm training for a half marathon in 2 months - could you propose a daily training plan to prepare?\", thread_1)\n"
   ]
  },
  {
   "cell_type": "code",
   "execution_count": 64,
   "id": "eccbee16",
   "metadata": {},
   "outputs": [
    {
     "name": "stdout",
     "output_type": "stream",
     "text": [
      "I've updated the memory with your half marathon training plan. Here's what I've saved:\n",
      "\n",
      "- You are training for a half marathon in 2 months.\n",
      "- You have an 8-week training plan that includes:\n",
      "  - Easy pace runs, tempo runs, and long runs.\n",
      "  - Cross-training and rest days.\n",
      "  - Strength training sessions.\n",
      "  - The plan gradually increases mileage and introduces speed work, peaking at a 10-mile long run before tapering in the final week leading up to the race.\n",
      "\n",
      "Good luck with your training! If you need any further adjustments or have any questions, just let me know. You're set for a great race! 🌟\n"
     ]
    }
   ],
   "source": [
    "print(chat(agent, \"Nice! Wish me luck! Please note down the detailed memories for me and repeat what have you saved:)\", thread_1))"
   ]
  },
  {
   "cell_type": "code",
   "execution_count": 65,
   "id": "91963467",
   "metadata": {},
   "outputs": [
    {
     "name": "stdout",
     "output_type": "stream",
     "text": [
      "(\"For week 3 of your training plan, while I don't have the specific daily \"\n",
      " 'breakdown, your overall plan includes various activities such as easy pace '\n",
      " 'runs, tempo runs, long runs, cross-training, rest days, and strength '\n",
      " \"training. Given your recent ankle sprain, we've adjusted the plan to include \"\n",
      " 'more cross-training and reduce impact exercises like running.\\n'\n",
      " '\\n'\n",
      " 'If you need a detailed schedule for this week, considering your ankle '\n",
      " 'condition, I can help create a modified plan focusing more on cross-training '\n",
      " 'and other safe activities. Would you like me to do that?')\n"
     ]
    }
   ],
   "source": [
    "thread_2 = \"thread-2\"\n",
    "pprint.pprint(chat(agent, \"Remember what I'm supposed to do for my training this week? It's week 3...\", thread_2))"
   ]
  },
  {
   "cell_type": "code",
   "execution_count": 62,
   "id": "c1e04d73",
   "metadata": {},
   "outputs": [
    {
     "name": "stdout",
     "output_type": "stream",
     "text": [
      "(\"I've updated your training plan to include more cross-training activities \"\n",
      " 'and reduce impact exercises to accommodate your sprained ankle. This should '\n",
      " 'help you continue your preparation for the half marathon while allowing your '\n",
      " 'ankle to heal. If you need further adjustments or specific cross-training '\n",
      " 'suggestions, just let me know!')\n"
     ]
    }
   ],
   "source": [
    "\n",
    "pprint.pprint(chat(agent, \"That may be tricky. I just sprained my ankle. Could you update my plan to include more cross training? Be sure to update the existing key of our plan\", thread_2))"
   ]
  },
  {
   "cell_type": "code",
   "execution_count": 66,
   "id": "f98f8857",
   "metadata": {},
   "outputs": [
    {
     "name": "stdout",
     "output_type": "stream",
     "text": [
      "(\"I've deleted your training plan from my memory. If you need help with \"\n",
      " 'anything else or want to start a new plan, just let me know!')\n"
     ]
    }
   ],
   "source": [
    "pprint.pprint(chat(agent, \"Forget all the plan please\", thread_2))"
   ]
  },
  {
   "cell_type": "code",
   "execution_count": 67,
   "id": "caa1b949",
   "metadata": {},
   "outputs": [
    {
     "name": "stdout",
     "output_type": "stream",
     "text": [
      "(\"I've saved the details for Person A: Name is Ahshik and age is 50. If \"\n",
      " \"there's anything else you need, feel free to ask!\")\n"
     ]
    }
   ],
   "source": [
    "pprint.pprint(chat(agent, \"Save this person A details : Name Ahshik, Age :50\", thread_2))"
   ]
  },
  {
   "cell_type": "code",
   "execution_count": 69,
   "id": "e14b1e75",
   "metadata": {},
   "outputs": [
    {
     "name": "stdout",
     "output_type": "stream",
     "text": [
      "('The details I have for Person A are:\\n'\n",
      " '- Name: Ahshik\\n'\n",
      " '- Age: 50\\n'\n",
      " '\\n'\n",
      " 'If you need more information or have any specific questions about Person A, '\n",
      " 'feel free to ask!')\n"
     ]
    }
   ],
   "source": [
    "pprint.pprint(chat(agent, \"What are person A details?\", thread_1))"
   ]
  },
  {
   "cell_type": "markdown",
   "id": "43a41122",
   "metadata": {},
   "source": [
    "# Test ChromaDb"
   ]
  },
  {
   "cell_type": "code",
   "execution_count": 73,
   "id": "51b26103",
   "metadata": {},
   "outputs": [],
   "source": [
    "from typing import List\n",
    "\n",
    "import pymupdf4llm\n",
    "from langchain.retrievers import ContextualCompressionRetriever\n",
    "from langchain.retrievers.document_compressors import CrossEncoderReranker\n",
    "from langchain.text_splitter import RecursiveCharacterTextSplitter\n",
    "from langchain_community.cross_encoders import HuggingFaceCrossEncoder\n",
    "from langchain_community.document_loaders import UnstructuredMarkdownLoader\n",
    "from langchain_community.vectorstores import Chroma\n",
    "from langchain_core.vectorstores import VectorStoreRetriever\n",
    "\n",
    "# from langchain_huggingface import HuggingFaceEmbeddings\n",
    "from langchain_openai.embeddings import OpenAIEmbeddings"
   ]
  },
  {
   "cell_type": "code",
   "execution_count": 81,
   "id": "0d4509b4",
   "metadata": {},
   "outputs": [],
   "source": [
    "loader = UnstructuredMarkdownLoader(\"/Users/user/Documents/agent_rag_langgraph/agent_rag_langgraph/data/gels-pdt-gpa-brochure.md\")\n",
    "docs = loader.load()"
   ]
  },
  {
   "cell_type": "code",
   "execution_count": 82,
   "id": "698515d2",
   "metadata": {},
   "outputs": [
    {
     "name": "stdout",
     "output_type": "stream",
     "text": [
      "1\n"
     ]
    }
   ],
   "source": [
    "print(len(docs))"
   ]
  },
  {
   "cell_type": "code",
   "execution_count": 83,
   "id": "0d8147ad",
   "metadata": {},
   "outputs": [],
   "source": [
    "text_splitter = RecursiveCharacterTextSplitter(\n",
    "    chunk_size=1000, chunk_overlap=200\n",
    ")\n"
   ]
  },
  {
   "cell_type": "code",
   "execution_count": 84,
   "id": "3755e075",
   "metadata": {},
   "outputs": [],
   "source": [
    "chunks = text_splitter.split_documents(docs)"
   ]
  },
  {
   "cell_type": "code",
   "execution_count": 85,
   "id": "0e559b13",
   "metadata": {},
   "outputs": [
    {
     "data": {
      "text/plain": [
       "[Document(metadata={'source': '/Users/user/Documents/agent_rag_langgraph/agent_rag_langgraph/data/gels-pdt-gpa-brochure.md'}, page_content='Personal accident\\n\\nGREAT Protector Active\\n\\nAll the protection you need to enjoy a more active lifestyle\\n\\nWhy GREAT Protector Active\\n\\nGet up to S$3 million in coverage against accidents Benefit from one of the highest personal accident plan that provides up to S$3 million in coverage against Accidental Major Permanent Disablement. [3] With the high lump sum payout, your medical\\n\\nand caregiving expenses can be supported while you adjust to your lifestyle changes.\\n\\nBoost coverage by up to 1.5 times with Benefit Booster [4]\\n\\nGet up to 1.5 times extra protection when you are injured in an accident as a pedestrian or cyclist\\n\\non the road, or a passenger in a private car or public transport, or in any accident when overseas.\\n\\nHigh medical expenses reimbursement\\n\\nYour recovery will also not be compromised with high medical expenses reimbursement of up to S$7,500 per accident for outpatient and hospitalisation expenses. You also have the choice of'),\n",
       " Document(metadata={'source': '/Users/user/Documents/agent_rag_langgraph/agent_rag_langgraph/data/gels-pdt-gpa-brochure.md'}, page_content='Your recovery will also not be compromised with high medical expenses reimbursement of up to S$7,500 per accident for outpatient and hospitalisation expenses. You also have the choice of\\n\\nyour preferred medical treatment and care by a Complementary Medicine Practitioner or Allied\\n\\nHealth Professional after an accident.\\n\\nStart a conversation with your Great Eastern Financial Representative today and find out more.\\n\\n1 Such activities are covered only if they are engaged on a leisure basis with or managed under a licensed organisation or establishment. Please refer to the product summary for details.'),\n",
       " Document(metadata={'source': '/Users/user/Documents/agent_rag_langgraph/agent_rag_langgraph/data/gels-pdt-gpa-brochure.md'}, page_content='1 Such activities are covered only if they are engaged on a leisure basis with or managed under a licensed organisation or establishment. Please refer to the product summary for details.\\n\\n2 Applicable where Life Assured was a pedestrian, cyclist or passenger, or on a Public Conveyance as a passenger. - Daily rate is based on the annual premium of GREAT Protector Active Basic, divided by 365 days and rounded off to the nearest cent. Premium rate is inclusive of the prevailing rate of GST. The prevailing rate of GST is subject to change. The premium rates for this policy are not guaranteed and may be adjusted based on future experience.'),\n",
       " Document(metadata={'source': '/Users/user/Documents/agent_rag_langgraph/agent_rag_langgraph/data/gels-pdt-gpa-brochure.md'}, page_content='4 Benefit Booster provides up to 150% of payout under all sections listed in the table of benefits except the sub-limits under Accidental Medical Expense Reimbursement. Benefit Booster is only applicable when the Life Assured suffers injuries from: (i) accidents while on public conveyance as a passenger, (ii) being involved in a road traffic accident as a pedestrian, cyclist or passenger; or (iii) accidents while outside of Singapore.\\n\\nPlans to suit every need\\n\\nBasic S$0.89 /day [^]\\n\\nS$27.98/month [#]\\n\\nS$325.99/year [#]\\n\\nClassic S$$1.45 /day [^]\\n\\nS$45.46/month [#]\\n\\nS$529.72/year [#]\\n\\nElite S$2.37 /day [^]\\n\\nS$74.32/month [#]\\n\\nS$865.89/year [#]\\n\\nHere’s how GREAT Protector Active supports your active lifestyle\\n\\nDanielle\\n\\nDanielle, a graduate school student who loves outdoor activities and travelling, signs up for GREAT Protector Active (Elite) with a Sum Assured of S$1,000,000 to safeguard against the unexpected. Her annual premium is S$865.89 [#] .\\n\\nDanielle loses the sight in'),\n",
       " Document(metadata={'source': '/Users/user/Documents/agent_rag_langgraph/agent_rag_langgraph/data/gels-pdt-gpa-brochure.md'}, page_content='Danielle loses the sight in\\n\\nher right eye due to a tennis\\n\\ninjury and receives a payout of S$1,500,000 .\\n\\nDanielle breaks her tooth\\n\\nwhile having a meal on a trip\\n\\nin Malaysia. She claims for a\\n\\nmedical expense reimbursement of up to S$7,500 .\\n\\n^ Daily rates are based on the annual premium of GREAT Protector Active Basic, Classic or Elite, whichever applicable, divided by 365 days and rounded off to the nearest cent.\\n\\nPremium rates include the prevailing rate of GST. The prevailing rate of GST is subject to change. The premium rates for this\\n\\npolicy are not guaranteed and may be adjusted based on future experience.\\n\\nTable of benefts i\\n\\ni\\n\\ni\\n\\ni\\n\\ni'),\n",
       " Document(metadata={'source': '/Users/user/Documents/agent_rag_langgraph/agent_rag_langgraph/data/gels-pdt-gpa-brochure.md'}, page_content='Col1 Claim event(s) Disability payout Amount payable (S$) Col5 Col6 Claim event(s) Disability payout Basic Classic Elite A Accidental Death (includes food poisoning) Sum Assured 200,000 500,000 1,000,000 A Accidental Death (includes food poisoning) Sum Assured With Benefit Booster4 300,000 750,000 1,500,000 With Benefit Booster4 300,000 750,000 1,500,000 With Benefit Booster4 300,000 750,000 1,500,000 B Accidental Major Permanent Disablement3 (I) Total & Permanent Disability, Loss of Both Arms/Legs, One Arm & One Leg, Sight in Both Eyes, One Arm/Leg & Sight in One Eye, Complete spinal traction loss including sensory and motor dysfunction from navel downwards 300% of Sum Assured 600,000 1,500,000 3,000,000 B Accidental Major Permanent Disablement3 (I) Total & Permanent Disability, Loss of Both Arms/Legs, One Arm & One Leg, Sight in Both Eyes, One Arm/Leg & Sight in One Eye, Complete spinal traction loss including sensory and motor dysfunction from navel downwards 300% of Sum Assured'),\n",
       " Document(metadata={'source': '/Users/user/Documents/agent_rag_langgraph/agent_rag_langgraph/data/gels-pdt-gpa-brochure.md'}, page_content='Both Arms/Legs, One Arm & One Leg, Sight in Both Eyes, One Arm/Leg & Sight in One Eye, Complete spinal traction loss including sensory and motor dysfunction from navel downwards 300% of Sum Assured With Benefit Booster4 900,000 2,250,000 4,500,000 With Benefit Booster4 900,000 2,250,000 4,500,000 With Benefit Booster4 900,000 2,250,000 4,500,000 B Accidental Major Permanent Disablement3 (II) Loss of One Arm/Leg, Loss of Sight in One Eye, Unilateral loss of motor function of One side of body 150% of Sum Assured 300,000 750,000 1,500,000 B Accidental Major Permanent Disablement3 (II) Loss of One Arm/Leg, Loss of Sight in One Eye, Unilateral loss of motor function of One side of body 150% of Sum Assured With Benefit Booster4 450,000 1,125,000 2,250,000 With Benefit Booster4 450,000 1,125,000 2,250,000 With Benefit Booster4 450,000 1,125,000 2,250,000 C Accidental Other Permanent Disablement3 (I) Loss of All Hearing in Both Ears, Thumb & Four Fingers in One Hand, Four Fingers in One Hand,'),\n",
       " Document(metadata={'source': '/Users/user/Documents/agent_rag_langgraph/agent_rag_langgraph/data/gels-pdt-gpa-brochure.md'}, page_content='2,250,000 With Benefit Booster4 450,000 1,125,000 2,250,000 C Accidental Other Permanent Disablement3 (I) Loss of All Hearing in Both Ears, Thumb & Four Fingers in One Hand, Four Fingers in One Hand, Lens in One Eye 50% of Sum Assured 100,000 250,000 500,000 C Accidental Other Permanent Disablement3 (I) Loss of All Hearing in Both Ears, Thumb & Four Fingers in One Hand, Four Fingers in One Hand, Lens in One Eye 50% of Sum Assured With Benefit Booster4 150,000 375,000 750,000 With Benefit Booster4 150,000 375,000 750,000 With Benefit Booster4 150,000 375,000 750,000 C Accidental Other Permanent Disablement3 (II) Loss of Speech, all Hearing in One Ear, Thumb (both phalanges), All Toes in One Foot 25% of Sum Assured 50,000 125,000 250,000 C Accidental Other Permanent Disablement3 (II) Loss of Speech, all Hearing in One Ear, Thumb (both phalanges), All Toes in One Foot 25% of Sum Assured With Benefit Booster4 75,000 187,500 375,000 With Benefit Booster4 75,000 187,500 375,000 With Benefit'),\n",
       " Document(metadata={'source': '/Users/user/Documents/agent_rag_langgraph/agent_rag_langgraph/data/gels-pdt-gpa-brochure.md'}, page_content='Speech, all Hearing in One Ear, Thumb (both phalanges), All Toes in One Foot 25% of Sum Assured With Benefit Booster4 75,000 187,500 375,000 With Benefit Booster4 75,000 187,500 375,000 With Benefit Booster4 75,000 187,500 375,000 C Accidental Other Permanent Disablement3 (III) Loss of Thumb (One phalanx), Big Toe, Index Finger (3/2/1 phalanges per hand) 7.5% of Sum Assured 15,000 37,500 75,000 C Accidental Other Permanent Disablement3 (III) Loss of Thumb (One phalanx), Big Toe, Index Finger (3/2/1 phalanges per hand) 7.5% of Sum Assured With Benefit Booster4 22,500 56,250 112,500 With Benefit Booster4 22,500 56,250 112,500 With Benefit Booster4 22,500 56,250 112,500 C Accidental Other Permanent Disablement3 (IV) Loss of Any Other Finger (3/2/1 phalanges per hand), Any other Toe 2.5% of Sum Assured 5,000 12,500 25,000 C Accidental Other Permanent Disablement3 (IV) Loss of Any Other Finger (3/2/1 phalanges per hand), Any other Toe 2.5% of Sum Assured With Benefit Booster4 7,500 18,750'),\n",
       " Document(metadata={'source': '/Users/user/Documents/agent_rag_langgraph/agent_rag_langgraph/data/gels-pdt-gpa-brochure.md'}, page_content='Assured 5,000 12,500 25,000 C Accidental Other Permanent Disablement3 (IV) Loss of Any Other Finger (3/2/1 phalanges per hand), Any other Toe 2.5% of Sum Assured With Benefit Booster4 7,500 18,750 37,500 With Benefit Booster4 7,500 18,750 37,500 With Benefit Booster4 7,500 18,750 37,500'),\n",
       " Document(metadata={'source': '/Users/user/Documents/agent_rag_langgraph/agent_rag_langgraph/data/gels-pdt-gpa-brochure.md'}, page_content='Col1 Claim event(s) Disability payout Amount payable (S$) Col5 Col6 Claim event(s) Disability payout Basic Classic Elite D Accidental Medical Expenses Reimbursement Limit Insured per accident (up to) 3,000 4,000 5,000 D Accidental Medical Expenses Reimbursement Limit Insured per accident (up to) With Benefit Booster4 4,500 6,000 7,500 With Benefit Booster4 4,500 6,000 7,500 With Benefit Booster4 4,500 6,000 7,500 D For claim under Complementary Medicine Practitioner and/or Allied Health Professional Sub-limit6 per accident 1,000 1,000 1,000 D For claim under Sickness5 For claim under Sickness5 500 500 500\\n\\n3 Excludes Accidental Major Permanent Disablement & Accidental Other Permanent Disablement from food poisoning.\\n\\n5 Refers to any confirmed diagnosis of (i) Injury and/ or condition due to a bite, sting, attack or such similar incident by an insect or animal, (ii) food poisoning, or (iii) Hand, Foot and Mouth Disease.\\n\\n6 Sub-limit will not be boosted under Benefit Booster.'),\n",
       " Document(metadata={'source': '/Users/user/Documents/agent_rag_langgraph/agent_rag_langgraph/data/gels-pdt-gpa-brochure.md'}, page_content='6 Sub-limit will not be boosted under Benefit Booster.\\n\\nNotes and Disclaimers\\n\\nAll ages specified refer to age next birthday.\\n\\nThis advertisement has not been reviewed by the Monetary Authority of Singapore.\\n\\nSingapore Citizens, Permanent Residents (PRs) and holders of Employment Pass who are aged between 17 and 65, may purchase any plan (Basic, Classic, Elite) under this policy. Juveniles (aged between 1 to 16) and holders of S Pass, Dependant’s Pass or Student’s Pass may purchase only the Basic Plan under this policy.\\n\\nThe above is for general information only. It is not a contract of insurance. The precise terms and conditions of this insurance plan are specified in the policy contract.\\n\\nIt is usually detrimental to replace an existing accident and health plan with a new one. A penalty may be imposed for early plan termination and the new plan may cost more, or have less benefits at the same cost.\\n\\nProtected up to specified limits by SDIC.'),\n",
       " Document(metadata={'source': '/Users/user/Documents/agent_rag_langgraph/agent_rag_langgraph/data/gels-pdt-gpa-brochure.md'}, page_content='Protected up to specified limits by SDIC.\\n\\nYou may wish to seek advice from a qualified adviser before buying the product. If you choose not to seek advice from a qualified adviser, you should consider whether the product is suitable for you. If you decide that the policy is not suitable after purchasing the policy, you may terminate the policy in accordance with the free-look provision, if any, and the insurer may recover from you any expense incurred by the insurer in underwriting the policy.\\n\\nIn case of discrepancy between the English and Chinese versions, the English version shall prevail.\\n\\nInformation correct as at 1 January 2024.\\n\\nReach for Great\\n\\nThe Great Eastern Life Assurance Company Limited 1 Pickering Street\\n\\n01-01 Great Eastern Centre\\n\\nSingapore 048659\\n\\nReg No.1908 00011G greateasternlife.com\\n\\nGPAP/Ver2.0/202401')]"
      ]
     },
     "execution_count": 85,
     "metadata": {},
     "output_type": "execute_result"
    }
   ],
   "source": [
    "chunks"
   ]
  },
  {
   "cell_type": "code",
   "execution_count": 78,
   "id": "65284242",
   "metadata": {},
   "outputs": [
    {
     "name": "stdout",
     "output_type": "stream",
     "text": [
      "13\n"
     ]
    }
   ],
   "source": [
    "print(len(chunks))"
   ]
  },
  {
   "cell_type": "code",
   "execution_count": 86,
   "id": "86fb41f6",
   "metadata": {},
   "outputs": [],
   "source": [
    "embeddings = OpenAIEmbeddings(api_key=api_key)\n",
    "# Create vector store\n",
    "vectorstore = Chroma.from_documents(documents=chunks, embedding=embeddings)\n",
    "# Create vectorstore retriever\n",
    "retriever = vectorstore.as_retriever(\n",
    "    search_type=\"similarity\",)"
   ]
  },
  {
   "cell_type": "code",
   "execution_count": 89,
   "id": "01f3c8c2",
   "metadata": {},
   "outputs": [
    {
     "name": "stdout",
     "output_type": "stream",
     "text": [
      "../uploads/gels-pdt-gpa-brochure.pdf\n"
     ]
    }
   ],
   "source": [
    "\n",
    "import glob\n",
    "pdf_files = []\n",
    "for name in glob.glob('../uploads/*.pdf'):\n",
    "    pdf_files.append(name)\n",
    "    print(name)"
   ]
  },
  {
   "cell_type": "code",
   "execution_count": 92,
   "id": "c81b17a7",
   "metadata": {},
   "outputs": [
    {
     "ename": "NameError",
     "evalue": "name 'preprocess_document_to_markdown' is not defined",
     "output_type": "error",
     "traceback": [
      "\u001b[31m---------------------------------------------------------------------------\u001b[39m",
      "\u001b[31mNameError\u001b[39m                                 Traceback (most recent call last)",
      "\u001b[36mCell\u001b[39m\u001b[36m \u001b[39m\u001b[32mIn[92]\u001b[39m\u001b[32m, line 3\u001b[39m\n\u001b[32m      1\u001b[39m markdown_chunks = []\n\u001b[32m      2\u001b[39m \u001b[38;5;28;01mfor\u001b[39;00m file \u001b[38;5;129;01min\u001b[39;00m pdf_files:\n\u001b[32m----> \u001b[39m\u001b[32m3\u001b[39m     \u001b[43mpreprocess_document_to_markdown\u001b[49m()\n",
      "\u001b[31mNameError\u001b[39m: name 'preprocess_document_to_markdown' is not defined"
     ]
    }
   ],
   "source": [
    "markdown_chunks = []\n",
    "for file in pdf_files:\n",
    "    preprocess_document_to_markdown()"
>>>>>>> f03b720 (fix : changed langgraph workflow)
   ]
  }
 ],
 "metadata": {
  "kernelspec": {
   "display_name": "agent_rag_langgraph_env",
   "language": "python",
   "name": "python3"
  },
  "language_info": {
   "codemirror_mode": {
    "name": "ipython",
    "version": 3
   },
   "file_extension": ".py",
   "mimetype": "text/x-python",
   "name": "python",
   "nbconvert_exporter": "python",
   "pygments_lexer": "ipython3",
   "version": "3.11.8"
  }
 },
 "nbformat": 4,
 "nbformat_minor": 5
}
