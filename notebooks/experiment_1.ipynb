{
 "cells": [
  {
   "cell_type": "markdown",
   "id": "1da78605",
   "metadata": {},
   "source": [
    "## Experiment on Langgraph"
   ]
  },
  {
   "cell_type": "code",
   "execution_count": 7,
   "id": "f9dceec5",
   "metadata": {},
   "outputs": [],
   "source": [
    "import sys\n",
    "sys.path.insert(0,\"/Users/user/Documents/agent_rag_langgraph/agent_rag_langgraph\")"
   ]
  },
  {
   "cell_type": "code",
   "execution_count": null,
   "id": "f49986e8",
   "metadata": {},
   "outputs": [],
   "source": [
    "from main import retriever\n",
    "\n",
    "\n",
    "import os\n",
    "from pprint import pprint\n",
    "from typing import Literal\n",
    "\n",
    "from dotenv import load_dotenv\n",
    "from langchain_core.messages import HumanMessage\n",
    "from langchain_core.tools import tool\n",
    "from langchain_openai.chat_models import ChatOpenAI\n",
    "from langgraph.checkpoint.memory import MemorySaver\n",
    "from langgraph.graph import END, START, MessagesState, StateGraph\n",
    "from langgraph.prebuilt import ToolNode\n",
    "from pydantic import BaseModel\n",
    "from typing import TypedDict\n",
    "\n",
    "from preprocess import run_preprocess"
   ]
  },
  {
   "cell_type": "code",
   "execution_count": 14,
   "id": "08fa0e01",
   "metadata": {},
   "outputs": [],
   "source": [
    "load_dotenv()  # take environment variables\n",
    "api_key = os.getenv(\"OPENAI_API_KEY\")"
   ]
  },
  {
   "cell_type": "code",
   "execution_count": null,
   "id": "c4c1fd45",
   "metadata": {},
   "outputs": [
    {
     "name": "stderr",
     "output_type": "stream",
     "text": [
      "/opt/anaconda3/envs/agent_rag_langgraph_env/lib/python3.11/site-packages/tqdm/auto.py:21: TqdmWarning: IProgress not found. Please update jupyter and ipywidgets. See https://ipywidgets.readthedocs.io/en/stable/user_install.html\n",
      "  from .autonotebook import tqdm as notebook_tqdm\n"
     ]
    },
    {
     "name": "stdout",
     "output_type": "stream",
     "text": [
      "The GREAT Protector Active basic plan is designed to support an active lifestyle with comprehensive coverage. Here are the key details:\n",
      "\n",
      "- **Daily Rate**: S$0.89\n",
      "- **Monthly Rate**: S$27.98\n",
      "- **Annual Rate**: S$325.99\n",
      "\n",
      "This plan is part of a personal accident insurance that offers up to S$3 million in coverage against accidents, including Accidental Major Permanent Disablement. This high coverage amount ensures that medical and caregiving expenses can be supported, helping you adjust to lifestyle changes after an accident.\n",
      "\n",
      "The premium rates include the prevailing rate of GST and are subject to change based on future experiences. The rates are calculated based on the annual premium divided by 365 days and rounded to the nearest cent.\n",
      "\n",
      "For more specific benefits or conditions, additional details from the policy documents would be required.\n",
      "-------------------------------------------------\n",
      "[HumanMessage(content='You are an intelligent assistant. Be friendly and use the tools to help you.\\n                                The tool contain all the insurance details need to know about. Only use these insurance information.\\n                                Do not hallucinate.If you do not know an answer, reply that you do not know.\\n                                Question :\\n                                Tell me more about GREAT Protector Active basic plan', additional_kwargs={}, response_metadata={}, id='035d52c3-423b-40d0-b0a2-f020edcaf716'),\n",
      " AIMessage(content='', additional_kwargs={'tool_calls': [{'id': 'call_gVuKVfI5YxOLHeC28m3hCTA5', 'function': {'arguments': '{\"query\":\"GREAT Protector Active basic plan\"}', 'name': 'retriever'}, 'type': 'function'}], 'refusal': None}, response_metadata={'token_usage': {'completion_tokens': 20, 'prompt_tokens': 191, 'total_tokens': 211, 'completion_tokens_details': {'accepted_prediction_tokens': 0, 'audio_tokens': 0, 'reasoning_tokens': 0, 'rejected_prediction_tokens': 0}, 'prompt_tokens_details': {'audio_tokens': 0, 'cached_tokens': 0}}, 'model_name': 'gpt-4-turbo-2024-04-09', 'system_fingerprint': 'fp_de235176ee', 'id': 'chatcmpl-BihwwWJ9hYa0tUrJCYP5mIGze4tPw', 'service_tier': 'default', 'finish_reason': 'tool_calls', 'logprobs': None}, id='run--a37fab8a-2852-4962-9314-6d3fb5261564-0', tool_calls=[{'name': 'retriever', 'args': {'query': 'GREAT Protector Active basic plan'}, 'id': 'call_gVuKVfI5YxOLHeC28m3hCTA5', 'type': 'tool_call'}], usage_metadata={'input_tokens': 191, 'output_tokens': 20, 'total_tokens': 211, 'input_token_details': {'audio': 0, 'cache_read': 0}, 'output_token_details': {'audio': 0, 'reasoning': 0}}),\n",
      " ToolMessage(content=\"[Document(metadata={'source': '/Users/user/Documents/agent_rag_langgraph/agent_rag_langgraph/data/gels-pdt-gpa-brochure.md'}, page_content='Plans to suit every need\\\\n\\\\nBasic S$0.89 /day [^]\\\\n\\\\nS$27.98/month [#]\\\\n\\\\nS$325.99/year [#]\\\\n\\\\nClassic S$$1.45 /day [^]\\\\n\\\\nS$45.46/month [#]\\\\n\\\\nS$529.72/year [#]\\\\n\\\\nElite S$2.37 /day [^]\\\\n\\\\nS$74.32/month [#]\\\\n\\\\nS$865.89/year [#]\\\\n\\\\nHere’s how GREAT Protector Active supports your active lifestyle\\\\n\\\\nDanielle'), Document(metadata={'source': '/Users/user/Documents/agent_rag_langgraph/agent_rag_langgraph/data/gels-pdt-gpa-brochure.md'}, page_content='Personal accident\\\\n\\\\nGREAT Protector Active\\\\n\\\\nAll the protection you need to enjoy a more active lifestyle\\\\n\\\\nWhy GREAT Protector Active\\\\n\\\\nGet up to S$3 million in coverage against accidents Benefit from one of the highest personal accident plan that provides up to S$3 million in coverage against Accidental Major Permanent Disablement. [3] With the high lump sum payout, your medical\\\\n\\\\nand caregiving expenses can be supported while you adjust to your lifestyle changes.'), Document(metadata={'source': '/Users/user/Documents/agent_rag_langgraph/agent_rag_langgraph/data/gels-pdt-gpa-brochure.md'}, page_content='^ Daily rates are based on the annual premium of GREAT Protector Active Basic, Classic or Elite, whichever applicable, divided by 365 days and rounded off to the nearest cent.\\\\n\\\\nPremium rates include the prevailing rate of GST. The prevailing rate of GST is subject to change. The premium rates for this\\\\n\\\\npolicy are not guaranteed and may be adjusted based on future experience.\\\\n\\\\nTable of benefts i\\\\n\\\\ni\\\\n\\\\ni\\\\n\\\\ni\\\\n\\\\ni'), Document(metadata={'source': '/Users/user/Documents/agent_rag_langgraph/agent_rag_langgraph/data/gels-pdt-gpa-brochure.md'}, page_content='Danielle loses the sight in\\\\n\\\\nher right eye due to a tennis\\\\n\\\\ninjury and receives a payout of S$1,500,000 .\\\\n\\\\nDanielle breaks her tooth\\\\n\\\\nwhile having a meal on a trip\\\\n\\\\nin Malaysia. She claims for a\\\\n\\\\nmedical expense reimbursement of up to S$7,500 .\\\\n\\\\n^ Daily rates are based on the annual premium of GREAT Protector Active Basic, Classic or Elite, whichever applicable, divided by 365 days and rounded off to the nearest cent.'), Document(metadata={'source': '/Users/user/Documents/agent_rag_langgraph/agent_rag_langgraph/data/gels-pdt-gpa-brochure.md'}, page_content='4 Benefit Booster provides up to 150% of payout under all sections listed in the table of benefits except the sub-limits under Accidental Medical Expense Reimbursement. Benefit Booster is only applicable when the Life Assured suffers injuries from: (i) accidents while on public conveyance as a passenger, (ii) being involved in a road traffic accident as a pedestrian, cyclist or passenger; or (iii) accidents while outside of Singapore.\\\\n\\\\nPlans to suit every need\\\\n\\\\nBasic S$0.89 /day [^]')]\", name='retriever', id='0eee04c3-c97e-46a7-818a-e59250375d15', tool_call_id='call_gVuKVfI5YxOLHeC28m3hCTA5'),\n",
      " AIMessage(content='The GREAT Protector Active basic plan is designed to support an active lifestyle with comprehensive coverage. Here are the key details:\\n\\n- **Daily Rate**: S$0.89\\n- **Monthly Rate**: S$27.98\\n- **Annual Rate**: S$325.99\\n\\nThis plan is part of a personal accident insurance that offers up to S$3 million in coverage against accidents, including Accidental Major Permanent Disablement. This high coverage amount ensures that medical and caregiving expenses can be supported, helping you adjust to lifestyle changes after an accident.\\n\\nThe premium rates include the prevailing rate of GST and are subject to change based on future experiences. The rates are calculated based on the annual premium divided by 365 days and rounded to the nearest cent.\\n\\nFor more specific benefits or conditions, additional details from the policy documents would be required.', additional_kwargs={'refusal': None}, response_metadata={'token_usage': {'completion_tokens': 169, 'prompt_tokens': 936, 'total_tokens': 1105, 'completion_tokens_details': {'accepted_prediction_tokens': 0, 'audio_tokens': 0, 'reasoning_tokens': 0, 'rejected_prediction_tokens': 0}, 'prompt_tokens_details': {'audio_tokens': 0, 'cached_tokens': 0}}, 'model_name': 'gpt-4-turbo-2024-04-09', 'system_fingerprint': 'fp_de235176ee', 'id': 'chatcmpl-BihxCIvrinISHAl3H1eGO1RdMfmZK', 'service_tier': 'default', 'finish_reason': 'stop', 'logprobs': None}, id='run--cd7c9941-799e-49c2-8140-7efe15efbe49-0', usage_metadata={'input_tokens': 936, 'output_tokens': 169, 'total_tokens': 1105, 'input_token_details': {'audio': 0, 'cache_read': 0}, 'output_token_details': {'audio': 0, 'reasoning': 0}})]\n",
      "---------------------------------------------------\n",
      "[HumanMessage(content='You are an intelligent assistant. Be friendly and use the tools to help you.\\n                                The tool contain all the insurance details need to know about. Only use these insurance information.\\n                                Do not hallucinate.If you do not know an answer, reply that you do not know.\\n                                Question :\\n                                Tell me more about GREAT Protector Active basic plan', metadata=None, type='human'),\n",
      " AIMessage(content='', metadata=None, type='ai', tool_calls=[ToolCall(name='retriever', args={'query': 'GREAT Protector Active basic plan'})]),\n",
      " ToolMessage(content=\"[Document(metadata={'source': '/Users/user/Documents/agent_rag_langgraph/agent_rag_langgraph/data/gels-pdt-gpa-brochure.md'}, page_content='Plans to suit every need\\\\n\\\\nBasic S$0.89 /day [^]\\\\n\\\\nS$27.98/month [#]\\\\n\\\\nS$325.99/year [#]\\\\n\\\\nClassic S$$1.45 /day [^]\\\\n\\\\nS$45.46/month [#]\\\\n\\\\nS$529.72/year [#]\\\\n\\\\nElite S$2.37 /day [^]\\\\n\\\\nS$74.32/month [#]\\\\n\\\\nS$865.89/year [#]\\\\n\\\\nHere’s how GREAT Protector Active supports your active lifestyle\\\\n\\\\nDanielle'), Document(metadata={'source': '/Users/user/Documents/agent_rag_langgraph/agent_rag_langgraph/data/gels-pdt-gpa-brochure.md'}, page_content='Personal accident\\\\n\\\\nGREAT Protector Active\\\\n\\\\nAll the protection you need to enjoy a more active lifestyle\\\\n\\\\nWhy GREAT Protector Active\\\\n\\\\nGet up to S$3 million in coverage against accidents Benefit from one of the highest personal accident plan that provides up to S$3 million in coverage against Accidental Major Permanent Disablement. [3] With the high lump sum payout, your medical\\\\n\\\\nand caregiving expenses can be supported while you adjust to your lifestyle changes.'), Document(metadata={'source': '/Users/user/Documents/agent_rag_langgraph/agent_rag_langgraph/data/gels-pdt-gpa-brochure.md'}, page_content='^ Daily rates are based on the annual premium of GREAT Protector Active Basic, Classic or Elite, whichever applicable, divided by 365 days and rounded off to the nearest cent.\\\\n\\\\nPremium rates include the prevailing rate of GST. The prevailing rate of GST is subject to change. The premium rates for this\\\\n\\\\npolicy are not guaranteed and may be adjusted based on future experience.\\\\n\\\\nTable of benefts i\\\\n\\\\ni\\\\n\\\\ni\\\\n\\\\ni\\\\n\\\\ni'), Document(metadata={'source': '/Users/user/Documents/agent_rag_langgraph/agent_rag_langgraph/data/gels-pdt-gpa-brochure.md'}, page_content='Danielle loses the sight in\\\\n\\\\nher right eye due to a tennis\\\\n\\\\ninjury and receives a payout of S$1,500,000 .\\\\n\\\\nDanielle breaks her tooth\\\\n\\\\nwhile having a meal on a trip\\\\n\\\\nin Malaysia. She claims for a\\\\n\\\\nmedical expense reimbursement of up to S$7,500 .\\\\n\\\\n^ Daily rates are based on the annual premium of GREAT Protector Active Basic, Classic or Elite, whichever applicable, divided by 365 days and rounded off to the nearest cent.'), Document(metadata={'source': '/Users/user/Documents/agent_rag_langgraph/agent_rag_langgraph/data/gels-pdt-gpa-brochure.md'}, page_content='4 Benefit Booster provides up to 150% of payout under all sections listed in the table of benefits except the sub-limits under Accidental Medical Expense Reimbursement. Benefit Booster is only applicable when the Life Assured suffers injuries from: (i) accidents while on public conveyance as a passenger, (ii) being involved in a road traffic accident as a pedestrian, cyclist or passenger; or (iii) accidents while outside of Singapore.\\\\n\\\\nPlans to suit every need\\\\n\\\\nBasic S$0.89 /day [^]')]\", metadata=None, type='tool'),\n",
      " AIMessage(content='The GREAT Protector Active basic plan is designed to support an active lifestyle with comprehensive coverage. Here are the key details:\\n\\n- **Daily Rate**: S$0.89\\n- **Monthly Rate**: S$27.98\\n- **Annual Rate**: S$325.99\\n\\nThis plan is part of a personal accident insurance that offers up to S$3 million in coverage against accidents, including Accidental Major Permanent Disablement. This high coverage amount ensures that medical and caregiving expenses can be supported, helping you adjust to lifestyle changes after an accident.\\n\\nThe premium rates include the prevailing rate of GST and are subject to change based on future experiences. The rates are calculated based on the annual premium divided by 365 days and rounded to the nearest cent.\\n\\nFor more specific benefits or conditions, additional details from the policy documents would be required.', metadata=None, type='ai', tool_calls=[])]\n",
      "1.0\n",
      "1.0\n"
     ]
    }
   ],
   "source": [
    "tools = [retriever]\n",
    "tool_node = ToolNode(tools)\n",
    "\n",
    "# # OpenAI LLM model\n",
    "model = ChatOpenAI(model=\"gpt-4-turbo\", temperature=0, api_key=api_key).bind_tools(\n",
    "    tools\n",
    ")\n",
    "# res = model.invoke(\"Hi\")\n",
    "# pprint(res.content)\n",
    "\n",
    "def StateDict(TypedDict):\n",
    "    messages: list[AnyMessage]\n",
    "\n",
    "# Function to decide whether to continue or stop the workflow\n",
    "def should_continue(state: StateDict) -> Literal[\"tools\", END]:\n",
    "    messages = state[\"messages\"]\n",
    "    last_message = messages[-1]\n",
    "    # If the LLM makes a tool call, go to the \"tools\" node\n",
    "    if last_message.tool_calls:\n",
    "        return \"tools\"\n",
    "    # Otherwise, finish the workflow\n",
    "    return END\n",
    "\n",
    "# Function that invokes the model\n",
    "def call_model(state: StateDict):\n",
    "    messages = state[\"messages\"]\n",
    "    response = model.invoke(messages)\n",
    "    return {\"messages\": [response]}  # Returns as a list to add to the state\n",
    "\n",
    "# Define the workflow with LangGraph\n",
    "workflow = StateGraph(StateDict)\n",
    "\n",
    "# Add nodes to the graph\n",
    "workflow.add_node(\"agent\", call_model)\n",
    "workflow.add_node(\"tools\", tool_node)\n",
    "\n",
    "# Connect nodes\n",
    "workflow.add_edge(START, \"agent\")  # Initial entry\n",
    "workflow.add_conditional_edges(\n",
    "    \"agent\", should_continue\n",
    ")  # Decision after the \"agent\" node\n",
    "workflow.add_edge(\"tools\", \"agent\")  # Cycle between tools and agent\n",
    "\n",
    "# Configure memory to persist the state\n",
    "checkpointer = MemorySaver()\n",
    "\n",
    "# Compile the graph into a LangChain Runnable application\n",
    "app = workflow.compile(checkpointer=checkpointer)\n",
    "\n",
    "# Execute the workflow\n",
    "final_state = app.invoke(\n",
    "    {\n",
    "        \"messages\": [\n",
    "            HumanMessage(\n",
    "                content=\"\"\"You are an intelligent assistant. Be friendly and use the tools to help you.\n",
    "                                The tool contain all the insurance details need to know about. Only use these insurance information.\n",
    "                                Do not hallucinate.If you do not know an answer, reply that you do not know.\n",
    "                                Question :\n",
    "                                Tell me more about GREAT Protector Active basic plan\"\"\"\n",
    "            )\n",
    "        ]\n",
    "    },\n",
    "    config={\"configurable\": {\"thread_id\": 42}},\n",
    ")\n",
    "\n",
    "# Show the final response\n",
    "print(final_state[\"messages\"][-1].content) # last convo answer only \n",
    "print(\"-------------------------------------------------\")\n",
    "pprint(final_state[\"messages\"]) # last convo \n",
    "print(\"---------------------------------------------------\")\n",
    "# pprint(list(app.get_state_history({\"configurable\": {\"thread_id\": 42}}))) # view all the thread convo\n",
    "from ragas.integrations.langgraph import convert_to_ragas_messages\n",
    "\n",
    "ragas_trace = convert_to_ragas_messages(\n",
    "    final_state[\"messages\"]\n",
    ")  # List of Ragas messages converted using the Ragas function\n",
    "\n",
    "pprint(ragas_trace)# changes to ragas format \n",
    "\n",
    "## Check tool call accuracy \n",
    "from ragas.metrics import ToolCallAccuracy\n",
    "from ragas.dataset_schema import MultiTurnSample\n",
    "import ragas.messages as r\n",
    "\n",
    "sample = MultiTurnSample(\n",
    "user_input=ragas_trace,\n",
    "reference_tool_calls=[\n",
    "    r.ToolCall(name=\"retriever\", args={'query': 'GREAT Protector Active basic plan'})\n",
    "],\n",
    ")\n",
    "\n",
    "# tool_accuracy_scorer = ToolCallAccuracy()\n",
    "# tool_accuracy_scorer.llm = ChatOpenAI(model=\"gpt-4-turbo\")\n",
    "\n",
    "# print(await tool_accuracy_scorer.multi_turn_ascore(sample))\n",
    "import asyncio\n",
    "async def eval_tool_accuracy():\n",
    "    tool_accuracy_scorer = ToolCallAccuracy()\n",
    "    tool_accuracy_scorer.llm = ChatOpenAI(model=\"gpt-4-turbo\")\n",
    "\n",
    "    result = await tool_accuracy_scorer.multi_turn_ascore(sample)\n",
    "    print(result)\n",
    "asyncio.run(eval_tool_accuracy())\n",
    "\n",
    "from ragas.dataset_schema import MultiTurnSample\n",
    "from ragas.metrics import AgentGoalAccuracyWithReference\n",
    "from ragas.llms import LangchainLLMWrapper\n",
    "\n",
    "async def eval_answer_accuracy():\n",
    "    sample = MultiTurnSample(\n",
    "    user_input=ragas_trace,\n",
    "    reference=\"details about GREAT Protector Active basic plan\",\n",
    ")\n",
    "\n",
    "    scorer = AgentGoalAccuracyWithReference()\n",
    "\n",
    "    evaluator_llm = LangchainLLMWrapper(ChatOpenAI(model=\"gpt-4-turbo\"))\n",
    "    scorer.llm = evaluator_llm\n",
    "    result = await scorer.multi_turn_ascore(sample)\n",
    "    print(result)\n",
    "asyncio.run(eval_answer_accuracy())"
   ]
  },
  {
   "cell_type": "code",
   "execution_count": 16,
   "id": "8d9c965e",
   "metadata": {},
   "outputs": [
    {
     "data": {
      "image/png": "[encoded data removed]",
      "text/plain": [
       "<IPython.core.display.Image object>"
      ]
     },
     "metadata": {},
     "output_type": "display_data"
    }
   ],
   "source": [
    "from IPython.display import Image, display\n",
    "\n",
    "display(Image(app.get_graph().draw_mermaid_png()))"
   ]
  }
 ],
 "metadata": {
  "kernelspec": {
   "display_name": "agent_rag_langgraph_env",
   "language": "python",
   "name": "python3"
  },
  "language_info": {
   "codemirror_mode": {
    "name": "ipython",
    "version": 3
   },
   "file_extension": ".py",
   "mimetype": "text/x-python",
   "name": "python",
   "nbconvert_exporter": "python",
   "pygments_lexer": "ipython3",
   "version": "3.11.8"
  }
 },
 "nbformat": 4,
 "nbformat_minor": 5
}
